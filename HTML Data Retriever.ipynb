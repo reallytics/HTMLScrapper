{
  "nbformat": 4,
  "nbformat_minor": 0,
  "metadata": {
    "colab": {
      "name": "HTML Data Retriever (1).ipynb",
      "provenance": [],
      "collapsed_sections": []
    },
    "interpreter": {
      "hash": "b3ba2566441a7c06988d0923437866b63cedc61552a5af99d1f4fb67d367b25f"
    },
    "kernelspec": {
      "display_name": "Python 3.8.8 64-bit ('base': conda)",
      "name": "python3"
    },
    "language_info": {
      "codemirror_mode": {
        "name": "ipython",
        "version": 3
      },
      "file_extension": ".py",
      "mimetype": "text/x-python",
      "name": "python",
      "nbconvert_exporter": "python",
      "pygments_lexer": "ipython3",
      "version": "3.8.8"
    }
  },
  "cells": [
    {
      "cell_type": "code",
      "metadata": {
        "id": "1p8tQLyUDxYu"
      },
      "source": [
        "import os\n",
        "import re\n",
        "import json\n",
        "import textract\n",
        "import requests\n",
        "import colorama\n",
        "from bs4 import BeautifulSoup\n",
        "from operator import itemgetter\n",
        "from urllib.parse import urljoin,urlparse"
      ],
      "execution_count": 9,
      "outputs": []
    },
    {
      "cell_type": "code",
      "metadata": {
        "id": "sjF4zbybLZqq"
      },
      "source": [
        "def DataFromFile(path):\n",
        "  text = textract.process(path)\n",
        "  text = text.decode(\"utf-8\") \n",
        "  text=str(text).replace('\\n',' ')\n",
        "  return text"
      ],
      "execution_count": 10,
      "outputs": []
    },
    {
      "cell_type": "code",
      "metadata": {
        "id": "HFYqwL-hEuYw"
      },
      "source": [
        "def SinglePagePreprocessedContent(url):\n",
        "    reqs = requests.get(url)\n",
        "    soup = BeautifulSoup(reqs.text, features=\"html.parser\")\n",
        "    dictionary = {}\n",
        "\n",
        "    for tag in soup.find_all(True):\n",
        "        if tag.name in dictionary:\n",
        "            dictionary[tag.name] +=1\n",
        "        else:\n",
        "            dictionary[tag.name] = 1\n",
        "\n",
        "    keys=list(dictionary.keys())\n",
        "    newDict={}\n",
        "    if 'html' in dictionary.keys():\n",
        "      keys.remove('html')\n",
        "    if 'head' in dictionary.keys():\n",
        "          keys.remove('head')\n",
        "\n",
        "    if 'body' in dictionary.keys():\n",
        "          keys.remove('body')\n",
        "\n",
        "    if 'script' in dictionary.keys():\n",
        "          keys.remove('script')\n",
        "\n",
        "    if 'meta' in dictionary.keys():\n",
        "          keys.remove('meta')\n",
        "\n",
        "    if 'link' in dictionary.keys():\n",
        "          keys.remove('link')\n",
        "\n",
        "    if 'style' in dictionary.keys():\n",
        "          keys.remove('style')    \n",
        "\n",
        "    for tag in keys:\n",
        "        data=soup.find_all(tag)\n",
        "        newDict[tag]=list()        \n",
        "        for textData in data:\n",
        "            value=textData.text\n",
        "            value=re.sub(\"\\s\\s+\" , \" \", value)\n",
        "            value=value.strip()\n",
        "            value=re.sub(\"\\n\" , \" \", value)\n",
        "            if '((function()' not in value:\n",
        "              newDict[tag].append(value)\n",
        "        newDict[tag]=set(newDict[tag])        \n",
        "        newDict[tag]=list(filter(lambda a: a != '', newDict[tag]))\n",
        "        \n",
        "            \n",
        "    return newDict"
      ],
      "execution_count": 11,
      "outputs": []
    },
    {
      "cell_type": "code",
      "metadata": {
        "id": "ItYP7DbY2yPk"
      },
      "source": [
        "def DefineDictionaryHTML():\n",
        "  Dictionary={\n",
        "      'Page Link': '',\n",
        "      'Title':'',\n",
        "      'Content':{},\n",
        "  }\n",
        "  return Dictionary"
      ],
      "execution_count": 12,
      "outputs": []
    },
    {
      "cell_type": "code",
      "metadata": {
        "id": "kJfbg3TYQLhq"
      },
      "source": [
        "def DictionaryFillerHTML(url):\n",
        "  Dictionary=DefineDictionaryHTML()\n",
        "  Dictionary['Page Link']=url\n",
        "  HTMLDict=SinglePagePreprocessedContent(url)\n",
        "  if 'title' in HTMLDict.keys():\n",
        "    Dictionary['Title']=HTMLDict['title']\n",
        "  Dictionary['Content']=HTMLDict\n",
        "\n",
        "  return Dictionary\n",
        "\n"
      ],
      "execution_count": 13,
      "outputs": []
    },
    {
      "cell_type": "code",
      "metadata": {
        "colab": {
          "base_uri": "https://localhost:8080/"
        },
        "id": "J471fERKWXhL",
        "outputId": "3ea28c49-0cfa-43f4-e460-2f066d6fb356"
      },
      "source": [
        "def is_valid(url):\n",
        "    parsed = urlparse(url)\n",
        "    return bool(parsed.netloc) and bool(parsed.scheme)\n",
        "\n",
        "def get_all_website_links(url):\n",
        "\n",
        "    urls = set()\n",
        "    domain_name = urlparse(url).netloc\n",
        "    soup = BeautifulSoup(requests.get(url).content, \"html.parser\")\n",
        "    for a_tag in soup.findAll(\"a\"):\n",
        "        href = a_tag.attrs.get(\"href\")\n",
        "        if href == \"\" or href is None:\n",
        "            continue\n",
        "        href = urljoin(url, href)\n",
        "        parsed_href = urlparse(href)\n",
        "        href = parsed_href.scheme + \"://\" + parsed_href.netloc + parsed_href.path\n",
        "        if not is_valid(href):\n",
        "            continue\n",
        "        if href in internal_urls:\n",
        "            continue\n",
        "        if domain_name not in href:\n",
        "            if href not in external_urls:\n",
        "                print(f\"{GRAY}[!] External link: {href}{RESET}\")\n",
        "                external_urls.add(href)\n",
        "            continue\n",
        "        print(f\"{GREEN}[*] Internal link: {href}{RESET}\")\n",
        "        urls.add(href)\n",
        "        internal_urls.add(href)\n",
        "    return urls\n",
        "\n",
        "\n",
        "def crawl(url):\n",
        "    global total_urls_visited\n",
        "    total_urls_visited += 1\n",
        "    print(f\"{YELLOW}[*] Crawling: {url}{RESET}\")\n",
        "    links = get_all_website_links(url)\n",
        "    for link in links:\n",
        "        crawl(link)\n",
        "url=\"https://www.anna-dsb.com/\"\n",
        "colorama.init()\n",
        "GREEN = colorama.Fore.GREEN\n",
        "GRAY = colorama.Fore.LIGHTBLACK_EX\n",
        "RESET = colorama.Fore.RESET\n",
        "YELLOW = colorama.Fore.YELLOW\n",
        "total_urls_visited = 0\n",
        "internal_urls = set()\n",
        "external_urls = set()\n",
        "crawl(url)\n"
      ],
      "execution_count": null,
      "outputs": [
        {
          "output_type": "stream",
          "name": "stdout",
          "text": [
            "[*] Crawling: https://www.anna-dsb.com/\n",
            "[*] Internal link: https://www.anna-dsb.com/\n",
            "[!] External link: https://goo.gl/maps/4KG6ss7nwds\n",
            "[!] External link: mailto://secretariat@ANNA-DSB.com\n",
            "[*] Internal link: https://www.anna-dsb.com/subscribe-to-notifications/\n",
            "[!] External link: https://www.linkedin.com/company/19888147/\n",
            "[!] External link: https://twitter.com/DSB_ISIN\n",
            "[*] Internal link: https://www.anna-dsb.com/products/\n",
            "[*] Internal link: https://www.anna-dsb.com/dsb-product-consultations/\n",
            "[*] Internal link: https://www.anna-dsb.com/totv-utotv/\n",
            "[*] Internal link: https://www.anna-dsb.com/proprietary-indexes/\n",
            "[*] Internal link: https://www.anna-dsb.com/change_request_process/\n",
            "[*] Internal link: https://www.anna-dsb.com/connectivity/\n",
            "[*] Internal link: https://www.anna-dsb.com/uat-2/\n",
            "[*] Internal link: https://www.anna-dsb.com/otc-isins-firds-reconciliation-service/\n",
            "[*] Internal link: https://www.anna-dsb.com/optional-services/\n",
            "[*] Internal link: https://www.anna-dsb.com/fees-rules-2021/\n",
            "[*] Internal link: https://www.anna-dsb.com/fees-rules-2022/\n",
            "[*] Internal link: https://www.anna-dsb.com/fee-model-variables/\n",
            "[*] Internal link: https://www.anna-dsb.com/fees-rules-2020/\n",
            "[*] Internal link: https://www.anna-dsb.com/fees-rules-2019/\n",
            "[*] Internal link: https://www.anna-dsb.com/fees-rules-2017-2018/\n",
            "[*] Internal link: https://www.anna-dsb.com/about-us/\n",
            "[*] Internal link: https://www.anna-dsb.com/download/dsb-articles-of-association/\n",
            "[*] Internal link: https://www.anna-dsb.com/contact-us/\n",
            "[*] Internal link: https://www.anna-dsb.com/financial-accounts/\n",
            "[*] Internal link: https://www.anna-dsb.com/industry-consultation/\n",
            "[*] Internal link: https://www.anna-dsb.com/product-committee/\n",
            "[*] Internal link: https://www.anna-dsb.com/download/roc-dsb-mou/\n",
            "[*] Internal link: https://www.anna-dsb.com/download/roc-dsb-notifications-protocol/\n",
            "[*] Internal link: https://www.anna-dsb.com/technology-advisory-committee/\n",
            "[*] Internal link: https://www.anna-dsb.com/third-party-assurance-audit/\n",
            "[*] Internal link: https://www.anna-dsb.com/knowledge-centre/\n",
            "[*] Internal link: https://www.anna-dsb.com/blog/\n",
            "[*] Internal link: https://www.anna-dsb.com/brexit/\n",
            "[*] Internal link: https://www.anna-dsb.com/coronavirus-covid-19/\n",
            "[*] Internal link: https://www.anna-dsb.com/events-3/\n",
            "[*] Internal link: https://www.anna-dsb.com/faq/\n",
            "[*] Internal link: https://www.anna-dsb.com/news/\n",
            "[*] Internal link: https://www.anna-dsb.com/operating-hours-and-holidays/\n",
            "[*] Internal link: https://www.anna-dsb.com/operational-status/\n",
            "[*] Internal link: https://www.anna-dsb.com/dsb-policies/\n",
            "[*] Internal link: https://www.anna-dsb.com/releases-summary/\n",
            "[*] Internal link: https://www.anna-dsb.com/support-metrics-2021/\n",
            "[*] Internal link: https://www.anna-dsb.com/community/\n",
            "[*] Internal link: https://www.anna-dsb.com/upi/\n",
            "[*] Internal link: https://www.anna-dsb.com/upi-product-definitions/\n",
            "[*] Internal link: https://www.anna-dsb.com/technical-information/\n",
            "[!] External link: https://prod.anna-dsb.com/\n",
            "[*] Internal link: https://www.anna-dsb.com/2021/09/28/dsb-publishes-upi-fee-model-consultation-final-report/\n",
            "[*] Internal link: https://www.anna-dsb.com/2021/08/11/the-regulatory-oversight-committee-and-the-derivatives-service-bureau-finalise-a-memorandum-of-understanding/\n",
            "[*] Internal link: https://www.anna-dsb.com/2021/07/27/dsb-announce-upi-consultation-on-legal-terms-and-conditions-timeline/\n",
            "[*] Internal link: https://www.anna-dsb.com/2021/09/09/monthly-dsb-metrics-august-2021/\n",
            "[*] Internal link: https://www.anna-dsb.com/2021/09/09/firds-fitrs-analysis-for-q2-2021/\n",
            "[*] Internal link: https://www.anna-dsb.com/2021/08/09/monthly-dsb-metrics-july-2021/\n",
            "[*] Internal link: https://www.anna-dsb.com/download/dsb-privacy-policy/\n",
            "[*] Internal link: https://www.anna-dsb.com/download/production-dsb-gui-terms-and-conditions/\n",
            "[*] Internal link: https://www.anna-dsb.com/download/dsb-notification-categories/\n",
            "[!] External link: http://eepurl.com/dP9nBD\n",
            "[!] External link: tel://+44203 880 2200\n",
            "[!] External link: mailto://technical.support@ANNA-DSB.com\n",
            "[!] External link: https://themegrill.com/themes/flash/\n",
            "[!] External link: https://wordpress.org/\n",
            "[*] Internal link: https://www.anna-dsb.com/download/dsb-gui-general-terms/\n",
            "[*] Internal link: https://www.anna-dsb.com/download/dsb-cookies-policy/\n",
            "[!] External link: https://www.wpdownloadmanager.com/\n",
            "[*] Crawling: https://www.anna-dsb.com/subscribe-to-notifications/\n",
            "[*] Crawling: https://www.anna-dsb.com/connectivity/\n",
            "[*] Internal link: https://www.anna-dsb.com/download/dsb-2021-ua-policies-final/\n",
            "[!] External link: mailto://client-admin@ANNA-DSB.com\n",
            "[*] Internal link: https://www.anna-dsb.com/download/dsb-prod-registration-form-v3/\n",
            "[*] Internal link: https://www.anna-dsb.com/download/dsb-uat-registration-form/\n",
            "[*] Internal link: https://www.anna-dsb.com/download/dsb-uat2-registration-form/\n",
            "[*] Internal link: https://www.anna-dsb.com/download/dsb-fix-api/\n",
            "[*] Internal link: https://www.anna-dsb.com/download/dsb-rest-api/\n",
            "[*] Internal link: https://www.anna-dsb.com/download/dsb-end-day-file-download/\n",
            "[*] Internal link: https://www.anna-dsb.com/download/dsb-intermediary/\n",
            "[*] Internal link: https://www.anna-dsb.com/download/dsb-search/\n",
            "[*] Crawling: https://www.anna-dsb.com/download/dsb-uat2-registration-form/\n",
            "[*] Crawling: https://www.anna-dsb.com/download/dsb-rest-api/\n",
            "[*] Crawling: https://www.anna-dsb.com/download/dsb-prod-registration-form-v3/\n",
            "[*] Crawling: https://www.anna-dsb.com/download/dsb-intermediary/\n",
            "[*] Crawling: https://www.anna-dsb.com/download/dsb-end-day-file-download/\n",
            "[*] Crawling: https://www.anna-dsb.com/download/dsb-fix-api/\n",
            "[*] Crawling: https://www.anna-dsb.com/download/dsb-search/\n",
            "[*] Crawling: https://www.anna-dsb.com/download/dsb-2021-ua-policies-final/\n",
            "[*] Crawling: https://www.anna-dsb.com/download/dsb-uat-registration-form/\n",
            "[*] Crawling: https://www.anna-dsb.com/fees-rules-2022/\n",
            "[*] Internal link: https://www.anna-dsb.com/download/summary-of-amendments-to-the-dsb-user-agreement-2022/\n",
            "[*] Internal link: https://www.anna-dsb.com/download/dsb-2022-ua-policies-final/\n",
            "[*] Internal link: https://www.anna-dsb.com/2022-otc-isin-and-cfi-service-provision-consultation/\n",
            "[*] Crawling: https://www.anna-dsb.com/download/dsb-2022-ua-policies-final/\n",
            "[*] Crawling: https://www.anna-dsb.com/2022-otc-isin-and-cfi-service-provision-consultation/\n",
            "[*] Internal link: https://www.anna-dsb.com/download/dsb-access-usage-agreement-and-policies-2022-final-redline/\n",
            "[*] Internal link: https://www.anna-dsb.com/download/dsb-2022-consultation-final-report/\n",
            "[*] Internal link: https://www.anna-dsb.com/download/2022-industry-consultation-paper/\n",
            "[*] Internal link: https://www.anna-dsb.com/download/otc-isin-may2021-cp-intro-webinar-final-v1/\n",
            "[*] Internal link: https://www.anna-dsb.com/download/webinar-playback-2021-05-13-instructions/\n",
            "[*] Internal link: https://www.anna-dsb.com/download/dsb-annual-consultation-paper-for-2022_bbg-responses_final/\n",
            "[*] Crawling: https://www.anna-dsb.com/download/2022-industry-consultation-paper/\n",
            "[*] Crawling: https://www.anna-dsb.com/download/otc-isin-may2021-cp-intro-webinar-final-v1/\n"
          ]
        }
      ]
    },
    {
      "cell_type": "code",
      "metadata": {
        "id": "iu79VfOvdlJH"
      },
      "source": [
        "links=internal_urls\n",
        "FinalData=[]\n",
        "for link in links:\n",
        "  FinalData.append(DictionaryFillerHTML(link))"
      ],
      "execution_count": null,
      "outputs": []
    },
    {
      "cell_type": "code",
      "metadata": {
        "id": "JkCv7AaDp7Y1"
      },
      "source": [
        "Folder_Name=\"WebScrapper\"\n",
        "os.mkdir(Folder_Name)\n",
        "path=os.path.join(os.getcwd(),Folder_Name)\n",
        "\n",
        "os.mkdir(path+\"\\\\DataInOneFile\")\n",
        "os.mkdir(path+\"\\\\DataInSeperatedFile\")\n"
      ],
      "execution_count": null,
      "outputs": []
    },
    {
      "cell_type": "code",
      "metadata": {
        "id": "xv_ML4uQp7Ts"
      },
      "source": [
        "#DataInOneFile\n",
        "File_Name=\"data.json\"\n",
        "path=os.path.join(os.getcwd(),Folder_Name,\"DataInOneFile\")\n",
        "print(os.path.join(path,File_Name))\n",
        "with open(os.path.join(path,File_Name), \"w\") as outfile:\n",
        "    json.dump(FinalData, outfile)\n"
      ],
      "execution_count": null,
      "outputs": []
    },
    {
      "cell_type": "code",
      "metadata": {
        "id": "1JG9_b1_Gvde"
      },
      "source": [
        "#DataInSeperatedFile\n",
        "path=os.path.join(os.getcwd(),Folder_Name,\"DataInSeperatedFile\")\n",
        "count=1\n",
        "for link in links:\n",
        "    print(count)\n",
        "    count=count+1\n",
        "    File_Name=str(count)+\".json\"\n",
        "    with open(os.path.join(path,File_Name), \"w\") as outfile:\n",
        "        json.dump(FinalData[count-1], outfile)\n",
        "\n"
      ],
      "execution_count": null,
      "outputs": []
    },
    {
      "cell_type": "code",
      "metadata": {
        "id": "wxLtD3jRGvdf"
      },
      "source": [
        ""
      ],
      "execution_count": null,
      "outputs": []
    }
  ]
}